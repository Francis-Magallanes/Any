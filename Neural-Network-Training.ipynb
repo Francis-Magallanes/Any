{
 "cells": [
  {
   "cell_type": "code",
   "execution_count": 12,
   "metadata": {},
   "outputs": [],
   "source": [
    "import NeuralNetworkScratch as nns\n",
    "import numpy as np"
   ]
  },
  {
   "cell_type": "code",
   "execution_count": 13,
   "metadata": {},
   "outputs": [
    {
     "output_type": "stream",
     "name": "stdout",
     "text": [
      "[[0.99540772 0.99455166 0.4999819  0.00179108 0.99442464 0.4999819\n  0.00511858 0.00466925]]\n[[0.99540772 0.99455166 0.4999819  0.00179108 0.99442464 0.4999819\n  0.00511858 0.00466925]]\n"
     ]
    }
   ],
   "source": [
    "#testing of the NeuralNetworkScartch module\n",
    "\n",
    "#With the defined neural network class, instantiated a neural network with input layer (4 inputs),\n",
    "# 2 hidden layer(with 3  neurons and 2 neurons, respectively), and output layer (with 1 neurons)\n",
    "neural_network = nns.NeuralNetwork([4,3,2,1])\n",
    "\n",
    "#TRAINING SESSION\n",
    " #possible inputs based on the activity\n",
    " #with dimensions of (number of inputs) by (number of training samples) - col x row\n",
    " #size: 4 x 8\n",
    "x_train = np.array([[1,1,0,0,1,0,0,0],[0,0,0,1,1,0,0,0],[0,0,1,0,0,1,0,1],[1,0,1,0,0,1,1,0]])\n",
    "\n",
    "#possible outputs based on the activity\n",
    "#with dimensions of (number of outputs) by (number of training samples) - col x row\n",
    "#size: 1 x 8\n",
    "y_train = np.array([[1,1,0,0,1,1,0,0]])\n",
    "\n",
    "neural_network.train(x_train, y_train, learning_rate = 0.9, epochs = 100000)\n",
    "\n",
    "#for the predictions\n",
    "#input for the neural network\n",
    "x_test = np.array([[1,1,0,0,1,0,0,0],[0,0,0,1,1,0,0,0],[0,0,1,0,0,1,0,1],[1,0,1,0,0,1,1,0]])\n",
    "\n",
    "y_test = neural_network.predict(x_test)\n",
    "\n",
    "#show the output\n",
    "print(y_test)\n",
    "#test of the saving of the model\n",
    "neural_network.save_model()\n",
    "\n",
    "loaded_nn = nns.NeuralNetwork()\n",
    "\n",
    "y_test = loaded_nn.predict(x_test)\n",
    "\n",
    "print(y_test)"
   ]
  },
  {
   "cell_type": "code",
   "execution_count": null,
   "metadata": {},
   "outputs": [],
   "source": []
  }
 ],
 "metadata": {
  "kernelspec": {
   "name": "python378jvsc74a57bd0ce11f34a6e98b7940ddd1de6bba18d8b39c708accd7fa23783d62410ed992f80",
   "display_name": "Python 3.7.8 64-bit"
  },
  "language_info": {
   "codemirror_mode": {
    "name": "ipython",
    "version": 3
   },
   "file_extension": ".py",
   "mimetype": "text/x-python",
   "name": "python",
   "nbconvert_exporter": "python",
   "pygments_lexer": "ipython3",
   "version": "3.7.8-final"
  },
  "metadata": {
   "interpreter": {
    "hash": "ce11f34a6e98b7940ddd1de6bba18d8b39c708accd7fa23783d62410ed992f80"
   }
  }
 },
 "nbformat": 4,
 "nbformat_minor": 2
}