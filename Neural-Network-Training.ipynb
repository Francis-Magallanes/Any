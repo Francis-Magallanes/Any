{
 "cells": [
  {
   "source": [
    "## Activity 4 LBYCPF3 - Character Recognition\n",
    "### By Francis John Magallanes and John Matthew Vong\n",
    "\n",
    "This notebook should contain the processing of the training data and the training proper. The dataset for training of the neural network is the MNIST handwritten digit character.The datase can be accessed through this [link](https://www.python-course.eu/neural_network_mnist.php?fbclid=IwAR27OoOIj6CGvi6tm1VcoCWh4zt-Qq761PJ1dq_FIGVmAzWa_Rj1E6bUKEA). <put details  pa here about the architecture of the neural network and the preprocessing of the data> \n",
    "\n",
    "Note that the NeuralNetworkScratch is a python script which contains the implementation of the neural network to used for the recognition.  \n"
   ],
   "cell_type": "markdown",
   "metadata": {}
  },
  {
   "cell_type": "code",
   "execution_count": null,
   "metadata": {},
   "outputs": [],
   "source": [
    "import NeuralNetworkScratch as nns\n",
    "import numpy as np\n",
    "import matplotlib.pyplot as plt\n",
    "import pickle"
   ]
  },
  {
   "source": [
    "### Calculation of the accuracy and mean squarred error (MSE)\n",
    "\n",
    "The accuracy of the model is computed through this formula:\n",
    "\n",
    "$$ \\frac{Total Number of Correct Predictions}{Total Number of Samples} $$\n",
    "\n",
    "The MSE of is computed through this formula:\n",
    "\n",
    "$$ MSE = \\frac{1}{2(NumberofSamples)}\\sum_{n=1}^{NumberofSamples} {({y_{pred} - y_{actual}})}^2 $$\n"
   ],
   "cell_type": "markdown",
   "metadata": {}
  },
  {
   "cell_type": "code",
   "execution_count": null,
   "metadata": {},
   "outputs": [],
   "source": [
    "\n",
    "#Inputs:\n",
    "#model - object of the trained model with predict method\n",
    "#test_data_x - test data which will inputted to the model. Note that \n",
    "#test_data_y - correct output values based on the test_data_x\n",
    "\n",
    "#Output\n",
    "#accuracy - accuracy of the model in percent\n",
    "#mse - mean squared error of the  model\n",
    "def Calculate_ACC_MSE(model, test_data_x, test_data_y):\n",
    "\n",
    "    #predicting    \n",
    "    y_pred = model.predict(test_data_x)\n",
    "\n",
    "    #calculating the MSE\n",
    "    #this will first compute the MSE per output of the neural network\n",
    "    squared_error = np.square(np.subtract(y_pred, test_data_y))\n",
    "    mse_per_output = (1/ (2 * test_data_y.shape[0]))*(squared_error.sum(axis = 1))    \n",
    "    \n",
    "    #then find the mean of the mse from the 10 outputs of the network\n",
    "    mse = np.sum ( mse_per_output ) / test_data_y.shape[0]\n",
    "  \n",
    "    #calculating the accuracy\n",
    "     #this converts the output of the neural network tp a number\n",
    "    y_pred_num = np.argmax(y_pred, axis=0)\n",
    "\n",
    "    #this converts the test_data_y to a number\n",
    "    test_data_y_num = np.argmax(test_data_y, axis=0)\n",
    "    \n",
    "    num_correct = np.count_nonzero( np.equal(y_pred_num,test_data_y_num))\n",
    "    accuracy = (num_correct / test_data_y.shape[1]) * 100\n",
    "\n",
    "    return accuracy, mse\n"
   ]
  },
  {
   "source": [
    "### Modification of the train and test data"
   ],
   "cell_type": "markdown",
   "metadata": {}
  },
  {
   "source": [
    "#loading of the training data\n",
    "train_data = np.loadtxt(\"mnist_train.csv\", delimiter = \",\")\n",
    "\n",
    "#take note the orientation for the input\n",
    "#this will get the data of the picture\n",
    "train_data_x = np.asfarray(train_data[: , 1:]).T \n",
    "train_data_y = train_data[:, 0] #this will get the labels\n",
    "\n",
    "#loading of the test data\n",
    "test_data = np.loadtxt(\"mnist_test.csv\", delimiter = \",\")\n",
    "\n",
    "#take note the orientation for the input\n",
    "test_data_x = np.asfarray(test_data[: , 1:]).T \n",
    "test_data_y = test_data[:, 0] #this will get the labels"
   ],
   "cell_type": "code",
   "metadata": {},
   "execution_count": null,
   "outputs": []
  },
  {
   "source": [
    "#this will transform the labels into a usable training data and testing data\n",
    "#so that it will be coherent with the 10 output in the neural network\n",
    "\n",
    "#for the training data\n",
    "temp_train_data_y = np.asfarray([train_data_y]).T #this will make a column wise training data\n",
    "temp = np.arange(0,10) #1x10 matrix\n",
    "\n",
    "#It will element by element comparison and it will output zero or one at the specific index\n",
    "#the resulting array will transformed from boolean to  int\n",
    "temp_data_y = np.equal(temp,temp_train_data_y).astype(np.int)\n",
    "\n",
    "#this will replace the zeros to 0.01 and one to 0.99 for better computation\n",
    "temp_data_y = np.where(temp_data_y == 0, 0.01, temp_data_y)\n",
    "temp_data_y = np.where(temp_data_y == 1, 0.99, temp_data_y)\n",
    "\n",
    "#the results are in the row and there is a need to transpose it\n",
    "#since the output of the neural network is in the column\n",
    "# store the results to te train_data_y\n",
    "train_data_y = temp_data_y.T \n",
    "\n",
    "#for the test data\n",
    "#some concept as the adjustment for the training data\n",
    "temp_test_data_y = np.asfarray([test_data_y]).T\n",
    "temp = np.arange(0,10)\n",
    "temp_data_y = np.equal(temp,temp_test_data_y).astype(np.int)\n",
    "temp_data_y = np.where(temp_data_y == 0, 0.01, temp_data_y)\n",
    "temp_data_y = np.where(temp_data_y == 1, 0.99, temp_data_y)\n",
    "test_data_y = temp_data_y.T\n",
    "\n",
    "print(test_data_y.shape)"
   ],
   "cell_type": "code",
   "metadata": {},
   "execution_count": null,
   "outputs": []
  },
  {
   "source": [
    "#This will process the x test and x train so that the values will only have 0.01 and 0.99\n",
    "# Any value less than 112.5 will be subsitute to 0.01 and any values greater than or equal \n",
    "# to 112.5 will be 0.99\n",
    "#The reason for this is that the application will a produce a pure black and white image for\n",
    "#writing the digit. It is useless to train the network to recognize grayscale image \n",
    "\n",
    "seperator =  112.5\n",
    "\n",
    "#for the training data\n",
    "train_data_x = np.where(train_data_x < seperator, 0.01, train_data_x)\n",
    "train_data_x = np.where(train_data_x >= seperator, 0.99, train_data_x)\n",
    "\n",
    "#for the test data\n",
    "test_data_x = np.where(test_data_x < seperator, 0.01, test_data_x)\n",
    "test_data_x = np.where(test_data_x >= seperator, 0.99, test_data_x)\n"
   ],
   "cell_type": "code",
   "metadata": {},
   "execution_count": null,
   "outputs": []
  },
  {
   "source": [
    "#### convert these to cell to visualize the modified test data x\n",
    "sample = test_data_x[:,6].reshape((28,28))\n",
    "plt.imshow(sample, cmap = \"Greys\")\n",
    "plt.show()\n"
   ],
   "cell_type": "code",
   "metadata": {},
   "execution_count": null,
   "outputs": []
  },
  {
   "source": [
    "### Improvement the loading times for the test and training data set\n"
   ],
   "cell_type": "markdown",
   "metadata": {}
  },
  {
   "cell_type": "code",
   "execution_count": null,
   "metadata": {},
   "outputs": [],
   "source": [
    "\n",
    "#writing the data\n",
    "with open(\"mnist_data.pkl\", \"bw\") as md:\n",
    "    data = {}\n",
    "    data[\"train_data_x\"] = train_data_x\n",
    "    data[\"train_data_y\"] = train_data_y\n",
    "    data[\"test_data_x\"] = test_data_x\n",
    "    data[\"test_data_y\"] = test_data_y\n",
    "    pickle.dump(data, md)\n"
   ]
  },
  {
   "cell_type": "code",
   "execution_count": null,
   "metadata": {},
   "outputs": [],
   "source": [
    "#loading of the data\n",
    "with open(\"mnist_data.pkl\", \"br\") as md:\n",
    "    data = pickle.load(md)\n",
    "\n",
    "train_data_x = data[\"train_data_x\"] \n",
    "train_data_y = data[\"train_data_y\"]\n",
    "test_data_x = data[\"test_data_x\"]\n",
    "test_data_y = data[\"test_data_y\"]"
   ]
  },
  {
   "source": [
    "### Creating and training of the neural network  proper"
   ],
   "cell_type": "markdown",
   "metadata": {}
  },
  {
   "cell_type": "code",
   "execution_count": null,
   "metadata": {},
   "outputs": [],
   "source": [
    "#Creating the neural network\n",
    "\n",
    "#Input layer : 784 inputs\n",
    "#Output layer: 10 neurons\n",
    "#Hidden Layer: 5 layers\n",
    "#first hidden layer: 392 neurons\n",
    "#second hidden layer: 196 neurons\n",
    "#third hidden layer: 98 neurons\n",
    "#fourth hidden layer: 49 neurons\n",
    "#fifth hidden layer: 24 neurons\n",
    "\n",
    "ann = nns.NeuralNetwork([784,392,196,98,49,24,10])\n",
    "\n",
    "#training proper with learning rate of 0.8 and epochs of 1000\n",
    "#one hour and fifteen minutes hindi pa tapos hahaha\n",
    "#approx. 13 seconds per epochs\n",
    "\n",
    "ann.train(train_data_x,train_data_y,learning_rate=0.8, epochs=2500)"
   ]
  },
  {
   "cell_type": "code",
   "execution_count": null,
   "metadata": {},
   "outputs": [],
   "source": [
    "#saving of the model\n",
    "ann.save_model()"
   ]
  },
  {
   "cell_type": "code",
   "execution_count": null,
   "metadata": {},
   "outputs": [],
   "source": [
    "y_pred = ann.predict(test_data_x)\n",
    "\n",
    "mse = np.sum((test_data_y - y_pred) ** 2) / (2 * test_data_y.shape[1])"
   ]
  },
  {
   "cell_type": "code",
   "execution_count": null,
   "metadata": {},
   "outputs": [],
   "source": [
    "print(mse)"
   ]
  },
  {
   "cell_type": "code",
   "execution_count": null,
   "metadata": {},
   "outputs": [],
   "source": [
    "#Showing of the testing input with visualization\n",
    "index = 997\n",
    "img = test_data_x[:,index]\n",
    "\n",
    "sample = img.reshape((28,28))\n",
    "plt.imshow(sample, cmap = \"Greys\")\n",
    "plt.show()\n",
    "\n",
    "print(test_data_y[:,index])\n",
    "print(f\"this number is {np.argmax(test_data_y[:,index])}\")"
   ]
  },
  {
   "cell_type": "code",
   "execution_count": null,
   "metadata": {},
   "outputs": [],
   "source": [
    "#predict using the testing input above\n",
    "test = np.array([img])\n",
    "test = test.T\n",
    "y_pred = ann.predict(test)\n",
    "print(y_pred)\n",
    "print(np.argmax(y_pred))"
   ]
  },
  {
   "source": [
    "### Continuation of the training"
   ],
   "cell_type": "markdown",
   "metadata": {}
  },
  {
   "cell_type": "code",
   "execution_count": null,
   "metadata": {},
   "outputs": [],
   "source": [
    "\n",
    "#this will load the model from the previous training\n",
    "ann = nns.NeuralNetwork()"
   ]
  },
  {
   "cell_type": "code",
   "execution_count": null,
   "metadata": {},
   "outputs": [],
   "source": [
    "#continuation of the training with additional 3300 epochs\n",
    "#total number of epochs used for the training: 13000 epochs\n",
    "ann.train(train_data_x,train_data_y,learning_rate=0.2, epochs=3300)"
   ]
  },
  {
   "cell_type": "code",
   "execution_count": null,
   "metadata": {},
   "outputs": [],
   "source": [
    "ann.save_model()"
   ]
  },
  {
   "cell_type": "code",
   "execution_count": 12,
   "metadata": {},
   "outputs": [
    {
     "output_type": "stream",
     "name": "stdout",
     "text": [
      "Accuracy: 88.94% \nMSE: 8.18785388995065\n"
     ]
    }
   ],
   "source": [
    "accuracy, mse = Calculate_ACC_MSE(ann, test_data_x, test_data_y)\n",
    "print(f\"Accuracy: {accuracy}% \\nMSE: {mse}\")"
   ]
  },
  {
   "cell_type": "code",
   "execution_count": null,
   "metadata": {},
   "outputs": [],
   "source": [
    "#correct but extremely hard\n",
    "#1459, 520\n",
    "\n",
    "#9009- wrong output of the neural network\n",
    "index = 520\n",
    "img = test_data_x[:,index]\n",
    "\n",
    "sample = img.reshape((28,28))\n",
    "plt.imshow(sample, cmap = \"Greys\")\n",
    "plt.show()\n",
    "\n",
    "print(test_data_y[:,index])\n",
    "print(f\"this number is {np.argmax(test_data_y[:,index])}\")"
   ]
  },
  {
   "cell_type": "code",
   "execution_count": null,
   "metadata": {},
   "outputs": [],
   "source": [
    "#results of the testing\n",
    "test = np.array([img])\n",
    "test = test.T\n",
    "y_pred = ann.predict(test)\n",
    "print(y_pred)\n",
    "print(np.argmax(y_pred))"
   ]
  },
  {
   "cell_type": "code",
   "execution_count": null,
   "metadata": {},
   "outputs": [],
   "source": []
  }
 ],
 "metadata": {
  "kernelspec": {
   "name": "python378jvsc74a57bd0ce11f34a6e98b7940ddd1de6bba18d8b39c708accd7fa23783d62410ed992f80",
   "display_name": "Python 3.7.8 64-bit"
  },
  "language_info": {
   "codemirror_mode": {
    "name": "ipython",
    "version": 3
   },
   "file_extension": ".py",
   "mimetype": "text/x-python",
   "name": "python",
   "nbconvert_exporter": "python",
   "pygments_lexer": "ipython3",
   "version": "3.7.8"
  },
  "metadata": {
   "interpreter": {
    "hash": "ce11f34a6e98b7940ddd1de6bba18d8b39c708accd7fa23783d62410ed992f80"
   }
  }
 },
 "nbformat": 4,
 "nbformat_minor": 2
}